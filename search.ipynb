{
 "cells": [
  {
   "cell_type": "code",
   "execution_count": null,
   "metadata": {},
   "outputs": [],
   "source": [
    "# {\n",
    "#     \"freq\": {\"text\": \"Time frequency\", \"values\": {\"A\": \"Annual\"}},\n",
    "#     \"twrk_hr\": {\n",
    "#         \"text\": \"Taught activities during paid working hours\",\n",
    "#         \"values\": {\"DPH\": \"During paid hours\", \"OPH\": \"Outside paid hours\"},\n",
    "#     },\n",
    "#     \"unit\": {\n",
    "#         \"text\": \"Unit of measure\",\n",
    "#         \"values\": {\"THS\": \"Thousand\", \"PC\": \"Percentage\"},\n",
    "#     },\n",
    "#     \"geo\": {\n",
    "#         \"text\": \"Geopolitical entity (reporting)\",\n",
    "#         \"values\": {\n",
    "#             \"EU25\": \"European Union - 25 countries (2004-2006)\",\n",
    "#             \"BE\": \"Belgium\",\n",
    "#             \"BG\": \"Bulgaria\",\n",
    "#             \"CZ\": \"Czechia\",\n",
    "#             \"DK\": \"Denmark\",\n",
    "#             \"EE\": \"Estonia\",\n",
    "#             \"IE\": \"Ireland\",\n",
    "#             \"EL\": \"Greece\",\n",
    "#             \"ES\": \"Spain\",\n",
    "#             \"FR\": \"France\",\n",
    "#             \"IT\": \"Italy\",\n",
    "#             \"CY\": \"Cyprus\",\n",
    "#             \"LV\": \"Latvia\",\n",
    "#             \"LT\": \"Lithuania\",\n",
    "#             \"LU\": \"Luxembourg\",\n",
    "#             \"HU\": \"Hungary\",\n",
    "#             \"MT\": \"Malta\",\n",
    "#             \"NL\": \"Netherlands\",\n",
    "#             \"AT\": \"Austria\",\n",
    "#             \"PL\": \"Poland\",\n",
    "#             \"PT\": \"Portugal\",\n",
    "#             \"RO\": \"Romania\",\n",
    "#             \"SI\": \"Slovenia\",\n",
    "#             \"SK\": \"Slovakia\",\n",
    "#             \"FI\": \"Finland\",\n",
    "#             \"SE\": \"Sweden\",\n",
    "#             \"NO\": \"Norway\",\n",
    "#             \"CH\": \"Switzerland\",\n",
    "#             \"UK\": \"United Kingdom\",\n",
    "#         },\n",
    "#     },\n",
    "#     \"time\": {\"text\": \"Time\", \"values\": {}},\n",
    "# }"
   ]
  },
  {
   "cell_type": "code",
   "execution_count": 1,
   "metadata": {},
   "outputs": [],
   "source": [
    "from api_search import od_search"
   ]
  },
  {
   "cell_type": "code",
   "execution_count": null,
   "metadata": {},
   "outputs": [],
   "source": [
    "term = \"interest rates\"\n",
    "\n",
    "results = od_search(search_string=term)\n",
    "\n",
    "for res in results:\n",
    "    title = res[\"text\"]\n",
    "    url = res[\"url\"]\n",
    "    print(f\"{title}: {url}\")"
   ]
  },
  {
   "cell_type": "code",
   "execution_count": 1,
   "metadata": {},
   "outputs": [],
   "source": [
    "from deeplake import deepcopy\n",
    "\n",
    "import json\n",
    "import os\n",
    "\n",
    "# load the local .env file\n",
    "from dotenv import load_dotenv\n",
    "\n",
    "load_dotenv()\n",
    "\n",
    "\n",
    "ORG_NAME = \"rubenselander\"  # Organization name on activeloop hub\n",
    "VECTOR_STORE_NAME = \"eurostat_cohere\"  # Name of vector store on activeloop hub\n",
    "TOKEN = os.environ[\"ACTIVELOOP_TOKEN\"]\n",
    "path = f\"hub://{ORG_NAME}/{VECTOR_STORE_NAME}\"\n",
    "dest = \"eurostat\"\n",
    "\n",
    "deepcopy(src=path, dest=\"eurostat\")"
   ]
  }
 ],
 "metadata": {
  "kernelspec": {
   "display_name": ".venv",
   "language": "python",
   "name": "python3"
  },
  "language_info": {
   "codemirror_mode": {
    "name": "ipython",
    "version": 3
   },
   "file_extension": ".py",
   "mimetype": "text/x-python",
   "name": "python",
   "nbconvert_exporter": "python",
   "pygments_lexer": "ipython3",
   "version": "3.10.11"
  }
 },
 "nbformat": 4,
 "nbformat_minor": 2
}
