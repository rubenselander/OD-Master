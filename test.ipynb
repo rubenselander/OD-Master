{
 "cells": [
  {
   "cell_type": "code",
   "execution_count": null,
   "metadata": {},
   "outputs": [],
   "source": []
  },
  {
   "cell_type": "code",
   "execution_count": 2,
   "metadata": {},
   "outputs": [],
   "source": [
    "import json\n",
    "\n",
    "file_path = \"clists.json\"\n",
    "with open(file_path, \"r\", encoding=\"utf-8\") as file:\n",
    "    clists = json.load(file)\n",
    "\n",
    "save_path = \"geo.json\"\n",
    "\n",
    "geo_variable = None\n",
    "\n",
    "for clist in clists:\n",
    "    if clist[\"id\"] == \"GEO\":\n",
    "        geo_variable = clist\n",
    "        break\n",
    "\n",
    "if geo_variable:\n",
    "    with open(save_path, \"w\", encoding=\"utf-8\") as file:\n",
    "        json.dump(geo_variable, file, ensure_ascii=False, indent=4)"
   ]
  },
  {
   "cell_type": "code",
   "execution_count": null,
   "metadata": {},
   "outputs": [],
   "source": [
    "# write a script which identifies any"
   ]
  }
 ],
 "metadata": {
  "kernelspec": {
   "display_name": ".venv",
   "language": "python",
   "name": "python3"
  },
  "language_info": {
   "codemirror_mode": {
    "name": "ipython",
    "version": 3
   },
   "file_extension": ".py",
   "mimetype": "text/x-python",
   "name": "python",
   "nbconvert_exporter": "python",
   "pygments_lexer": "ipython3",
   "version": "3.10.11"
  }
 },
 "nbformat": 4,
 "nbformat_minor": 2
}
